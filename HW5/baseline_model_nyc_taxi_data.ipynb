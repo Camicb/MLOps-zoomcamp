{
 "cells": [
  {
   "cell_type": "markdown",
   "id": "7bf05e7e",
   "metadata": {},
   "source": [
    "# Baseline model for batch monitoring example"
   ]
  },
  {
   "cell_type": "code",
   "execution_count": 28,
   "id": "7320039b",
   "metadata": {},
   "outputs": [],
   "source": [
    "import requests\n",
    "import datetime\n",
    "import pandas as pd\n",
    "\n",
    "from evidently import ColumnMapping\n",
    "from evidently.report import Report\n",
    "from evidently.metrics import ColumnDriftMetric, DatasetDriftMetric, DatasetMissingValuesMetric\n",
    "from evidently.metrics import ColumnQuantileMetric, DatasetCorrelationsMetric\n",
    "\n",
    "from joblib import load, dump\n",
    "from tqdm import tqdm\n",
    "\n",
    "from sklearn.linear_model import LinearRegression\n",
    "from sklearn.metrics import mean_absolute_error, mean_absolute_percentage_error"
   ]
  },
  {
   "attachments": {},
   "cell_type": "markdown",
   "id": "3458ce62",
   "metadata": {},
   "source": [
    "#### Q1. Prepare the dataset\n",
    "\n",
    "Download the March 2023 Green Taxi data. What is the shape of the downloaded data? How many rows are there?\n"
   ]
  },
  {
   "cell_type": "code",
   "execution_count": 10,
   "id": "6735ae38",
   "metadata": {},
   "outputs": [],
   "source": [
    "march = pd.read_parquet('C:/Users/Camila/OneDrive/Escritorio/mlops zoomcamp/data/green/green_tripdata_2023-03.parquet')"
   ]
  },
  {
   "cell_type": "code",
   "execution_count": 12,
   "id": "b44c37b2",
   "metadata": {},
   "outputs": [
    {
     "name": "stdout",
     "output_type": "stream",
     "text": [
      "<class 'pandas.core.frame.DataFrame'>\n",
      "RangeIndex: 72044 entries, 0 to 72043\n",
      "Data columns (total 20 columns):\n",
      " #   Column                 Non-Null Count  Dtype         \n",
      "---  ------                 --------------  -----         \n",
      " 0   VendorID               72044 non-null  int32         \n",
      " 1   lpep_pickup_datetime   72044 non-null  datetime64[ns]\n",
      " 2   lpep_dropoff_datetime  72044 non-null  datetime64[ns]\n",
      " 3   store_and_fwd_flag     67507 non-null  object        \n",
      " 4   RatecodeID             67507 non-null  float64       \n",
      " 5   PULocationID           72044 non-null  int32         \n",
      " 6   DOLocationID           72044 non-null  int32         \n",
      " 7   passenger_count        67507 non-null  float64       \n",
      " 8   trip_distance          72044 non-null  float64       \n",
      " 9   fare_amount            72044 non-null  float64       \n",
      " 10  extra                  72044 non-null  float64       \n",
      " 11  mta_tax                72044 non-null  float64       \n",
      " 12  tip_amount             72044 non-null  float64       \n",
      " 13  tolls_amount           72044 non-null  float64       \n",
      " 14  ehail_fee              0 non-null      float64       \n",
      " 15  improvement_surcharge  72044 non-null  float64       \n",
      " 16  total_amount           72044 non-null  float64       \n",
      " 17  payment_type           67507 non-null  float64       \n",
      " 18  trip_type              67500 non-null  float64       \n",
      " 19  congestion_surcharge   67507 non-null  float64       \n",
      "dtypes: datetime64[ns](2), float64(14), int32(3), object(1)\n",
      "memory usage: 10.2+ MB\n"
     ]
    }
   ],
   "source": [
    "march.info()"
   ]
  },
  {
   "cell_type": "code",
   "execution_count": 13,
   "id": "f2934d16",
   "metadata": {},
   "outputs": [],
   "source": [
    "# create target\n",
    "march[\"duration_min\"] = march.lpep_dropoff_datetime - march.lpep_pickup_datetime\n",
    "march.duration_min = march.duration_min.apply(lambda td : float(td.total_seconds())/60)"
   ]
  },
  {
   "cell_type": "code",
   "execution_count": 14,
   "id": "63210877",
   "metadata": {},
   "outputs": [],
   "source": [
    "# filter out outliers\n",
    "march = march[(march.duration_min >= 0) & (march.duration_min <= 60)]\n",
    "march = march[(march.passenger_count > 0) & (march.passenger_count <= 8)]"
   ]
  },
  {
   "cell_type": "code",
   "execution_count": 15,
   "id": "56b31a22",
   "metadata": {},
   "outputs": [
    {
     "data": {
      "text/plain": [
       "<Axes: >"
      ]
     },
     "execution_count": 15,
     "metadata": {},
     "output_type": "execute_result"
    },
    {
     "data": {
      "image/png": "[encoded data removed]",
      "text/plain": [
       "<Figure size 640x480 with 1 Axes>"
      ]
     },
     "metadata": {},
     "output_type": "display_data"
    }
   ],
   "source": [
    "march.duration_min.hist()"
   ]
  },
  {
   "cell_type": "code",
   "execution_count": 16,
   "id": "e40dff98",
   "metadata": {},
   "outputs": [],
   "source": [
    "# data labeling\n",
    "target = \"duration_min\"\n",
    "num_features = [\"passenger_count\", \"trip_distance\", \"fare_amount\", \"total_amount\"]\n",
    "cat_features = [\"PULocationID\", \"DOLocationID\"]"
   ]
  },
  {
   "cell_type": "code",
   "execution_count": 17,
   "id": "bc0c22a5",
   "metadata": {},
   "outputs": [
    {
     "data": {
      "text/plain": [
       "(66255, 21)"
      ]
     },
     "execution_count": 17,
     "metadata": {},
     "output_type": "execute_result"
    }
   ],
   "source": [
    "march.shape"
   ]
  },
  {
   "cell_type": "code",
   "execution_count": 18,
   "id": "05a265a0",
   "metadata": {},
   "outputs": [],
   "source": [
    "train_data = march[:30000]\n",
    "val_data = march[30000:]"
   ]
  },
  {
   "cell_type": "code",
   "execution_count": 19,
   "id": "e9fb4fc9",
   "metadata": {},
   "outputs": [],
   "source": [
    "model = LinearRegression()"
   ]
  },
  {
   "cell_type": "code",
   "execution_count": 20,
   "id": "0baed5ae",
   "metadata": {},
   "outputs": [
    {
     "data": {
      "text/html": [
       "<style>#sk-container-id-1 {color: black;background-color: white;}#sk-container-id-1 pre{padding: 0;}#sk-container-id-1 div.sk-toggleable {background-color: white;}#sk-container-id-1 label.sk-toggleable__label {cursor: pointer;display: block;width: 100%;margin-bottom: 0;padding: 0.3em;box-sizing: border-box;text-align: center;}#sk-container-id-1 label.sk-toggleable__label-arrow:before {content: \"▸\";float: left;margin-right: 0.25em;color: #696969;}#sk-container-id-1 label.sk-toggleable__label-arrow:hover:before {color: black;}#sk-container-id-1 div.sk-estimator:hover label.sk-toggleable__label-arrow:before {color: black;}#sk-container-id-1 div.sk-toggleable__content {max-height: 0;max-width: 0;overflow: hidden;text-align: left;background-color: #f0f8ff;}#sk-container-id-1 div.sk-toggleable__content pre {margin: 0.2em;color: black;border-radius: 0.25em;background-color: #f0f8ff;}#sk-container-id-1 input.sk-toggleable__control:checked~div.sk-toggleable__content {max-height: 200px;max-width: 100%;overflow: auto;}#sk-container-id-1 input.sk-toggleable__control:checked~label.sk-toggleable__label-arrow:before {content: \"▾\";}#sk-container-id-1 div.sk-estimator input.sk-toggleable__control:checked~label.sk-toggleable__label {background-color: #d4ebff;}#sk-container-id-1 div.sk-label input.sk-toggleable__control:checked~label.sk-toggleable__label {background-color: #d4ebff;}#sk-container-id-1 input.sk-hidden--visually {border: 0;clip: rect(1px 1px 1px 1px);clip: rect(1px, 1px, 1px, 1px);height: 1px;margin: -1px;overflow: hidden;padding: 0;position: absolute;width: 1px;}#sk-container-id-1 div.sk-estimator {font-family: monospace;background-color: #f0f8ff;border: 1px dotted black;border-radius: 0.25em;box-sizing: border-box;margin-bottom: 0.5em;}#sk-container-id-1 div.sk-estimator:hover {background-color: #d4ebff;}#sk-container-id-1 div.sk-parallel-item::after {content: \"\";width: 100%;border-bottom: 1px solid gray;flex-grow: 1;}#sk-container-id-1 div.sk-label:hover label.sk-toggleable__label {background-color: #d4ebff;}#sk-container-id-1 div.sk-serial::before {content: \"\";position: absolute;border-left: 1px solid gray;box-sizing: border-box;top: 0;bottom: 0;left: 50%;z-index: 0;}#sk-container-id-1 div.sk-serial {display: flex;flex-direction: column;align-items: center;background-color: white;padding-right: 0.2em;padding-left: 0.2em;position: relative;}#sk-container-id-1 div.sk-item {position: relative;z-index: 1;}#sk-container-id-1 div.sk-parallel {display: flex;align-items: stretch;justify-content: center;background-color: white;position: relative;}#sk-container-id-1 div.sk-item::before, #sk-container-id-1 div.sk-parallel-item::before {content: \"\";position: absolute;border-left: 1px solid gray;box-sizing: border-box;top: 0;bottom: 0;left: 50%;z-index: -1;}#sk-container-id-1 div.sk-parallel-item {display: flex;flex-direction: column;z-index: 1;position: relative;background-color: white;}#sk-container-id-1 div.sk-parallel-item:first-child::after {align-self: flex-end;width: 50%;}#sk-container-id-1 div.sk-parallel-item:last-child::after {align-self: flex-start;width: 50%;}#sk-container-id-1 div.sk-parallel-item:only-child::after {width: 0;}#sk-container-id-1 div.sk-dashed-wrapped {border: 1px dashed gray;margin: 0 0.4em 0.5em 0.4em;box-sizing: border-box;padding-bottom: 0.4em;background-color: white;}#sk-container-id-1 div.sk-label label {font-family: monospace;font-weight: bold;display: inline-block;line-height: 1.2em;}#sk-container-id-1 div.sk-label-container {text-align: center;}#sk-container-id-1 div.sk-container {/* jupyter's `normalize.less` sets `[hidden] { display: none; }` but bootstrap.min.css set `[hidden] { display: none !important; }` so we also need the `!important` here to be able to override the default hidden behavior on the sphinx rendered scikit-learn.org. See: https://github.com/scikit-learn/scikit-learn/issues/21755 */display: inline-block !important;position: relative;}#sk-container-id-1 div.sk-text-repr-fallback {display: none;}</style><div id=\"sk-container-id-1\" class=\"sk-top-container\"><div class=\"sk-text-repr-fallback\"><pre>LinearRegression()</pre><b>In a Jupyter environment, please rerun this cell to show the HTML representation or trust the notebook. <br />On GitHub, the HTML representation is unable to render, please try loading this page with nbviewer.org.</b></div><div class=\"sk-container\" hidden><div class=\"sk-item\"><div class=\"sk-estimator sk-toggleable\"><input class=\"sk-toggleable__control sk-hidden--visually\" id=\"sk-estimator-id-1\" type=\"checkbox\" checked><label for=\"sk-estimator-id-1\" class=\"sk-toggleable__label sk-toggleable__label-arrow\">LinearRegression</label><div class=\"sk-toggleable__content\"><pre>LinearRegression()</pre></div></div></div></div></div>"
      ],
      "text/plain": [
       "LinearRegression()"
      ]
     },
     "execution_count": 20,
     "metadata": {},
     "output_type": "execute_result"
    }
   ],
   "source": [
    "model.fit(train_data[num_features + cat_features], train_data[target])"
   ]
  },
  {
   "cell_type": "code",
   "execution_count": 21,
   "id": "c1fa3c38",
   "metadata": {},
   "outputs": [],
   "source": [
    "train_preds = model.predict(train_data[num_features + cat_features])\n",
    "train_data['prediction'] = train_preds"
   ]
  },
  {
   "cell_type": "code",
   "execution_count": 22,
   "id": "84293b52",
   "metadata": {},
   "outputs": [],
   "source": [
    "val_preds = model.predict(val_data[num_features + cat_features])\n",
    "val_data['prediction'] = val_preds"
   ]
  },
  {
   "cell_type": "code",
   "execution_count": 23,
   "id": "0af9d288",
   "metadata": {},
   "outputs": [
    {
     "name": "stdout",
     "output_type": "stream",
     "text": [
      "3.5641759571064915\n",
      "3.646951695051198\n"
     ]
    }
   ],
   "source": [
    "print(mean_absolute_error(train_data.duration_min, train_data.prediction))\n",
    "print(mean_absolute_error(val_data.duration_min, val_data.prediction))"
   ]
  },
  {
   "cell_type": "markdown",
   "id": "fc441899",
   "metadata": {},
   "source": [
    "# Dump model and reference data"
   ]
  },
  {
   "cell_type": "code",
   "execution_count": 25,
   "id": "dfb4068b",
   "metadata": {},
   "outputs": [],
   "source": [
    "with open('lin_reg.bin', 'wb') as f_out:\n",
    "    dump(model, f_out)"
   ]
  },
  {
   "cell_type": "code",
   "execution_count": 26,
   "id": "a1aa065f",
   "metadata": {},
   "outputs": [],
   "source": [
    "val_data.to_parquet('reference.parquet')"
   ]
  },
  {
   "cell_type": "markdown",
   "id": "a195b327",
   "metadata": {},
   "source": [
    "# Evidently Report"
   ]
  },
  {
   "cell_type": "code",
   "execution_count": 29,
   "id": "56403137",
   "metadata": {},
   "outputs": [],
   "source": [
    "column_mapping = ColumnMapping(\n",
    "    target=None,\n",
    "    prediction='prediction',\n",
    "    numerical_features=num_features,\n",
    "    categorical_features=cat_features\n",
    ")"
   ]
  },
  {
   "cell_type": "code",
   "execution_count": 31,
   "id": "36bf31c2",
   "metadata": {},
   "outputs": [],
   "source": [
    "report = Report(metrics=[\n",
    "    ColumnDriftMetric(column_name='prediction'),\n",
    "    DatasetDriftMetric(),\n",
    "    DatasetMissingValuesMetric(),\n",
    "    DatasetCorrelationsMetric(),\n",
    "    ColumnQuantileMetric(column_name=\"fare_amount\", quantile=0.5)\n",
    "]\n",
    ")"
   ]
  },
  {
   "cell_type": "code",
   "execution_count": 32,
   "id": "996eb8b8",
   "metadata": {},
   "outputs": [],
   "source": [
    "report.run(reference_data=train_data, current_data=val_data, column_mapping=column_mapping)"
   ]
  },
  {
   "cell_type": "code",
   "execution_count": null,
   "id": "3e7aaea2",
   "metadata": {
    "scrolled": false
   },
   "outputs": [],
   "source": [
    "report.show(mode='inline')"
   ]
  },
  {
   "cell_type": "code",
   "execution_count": 34,
   "id": "397adec5",
   "metadata": {},
   "outputs": [],
   "source": [
    "result = report.as_dict()"
   ]
  },
  {
   "cell_type": "code",
   "execution_count": 35,
   "id": "84c99580",
   "metadata": {
    "scrolled": true
   },
   "outputs": [
    {
     "data": {
      "text/plain": [
       "{'metrics': [{'metric': 'ColumnDriftMetric',\n",
       "   'result': {'column_name': 'prediction',\n",
       "    'column_type': 'num',\n",
       "    'stattest_name': 'Wasserstein distance (normed)',\n",
       "    'stattest_threshold': 0.1,\n",
       "    'drift_score': 0.021912744737353405,\n",
       "    'drift_detected': False,\n",
       "    'current': {'small_distribution': {'x': [-29.976938687069854,\n",
       "       -6.3604336636874805,\n",
       "       17.256071359694893,\n",
       "       40.872576383077266,\n",
       "       64.48908140645963,\n",
       "       88.10558642984202,\n",
       "       111.72209145322438,\n",
       "       135.33859647660674,\n",
       "       158.95510149998913,\n",
       "       182.5716065233715,\n",
       "       206.18811154675387],\n",
       "      'y': [9.343432451141254e-06,\n",
       "       0.03443054858245553,\n",
       "       0.007515623477886746,\n",
       "       0.0003457070006922265,\n",
       "       2.335858112785312e-05,\n",
       "       8.175503394748602e-06,\n",
       "       5.839645281963287e-06,\n",
       "       1.1679290563926561e-06,\n",
       "       2.3358581127853122e-06,\n",
       "       1.1679290563926574e-06]}},\n",
       "    'reference': {'small_distribution': {'x': [-44.794580269945776,\n",
       "       -20.705700872911134,\n",
       "       3.383178524123508,\n",
       "       27.472057921158147,\n",
       "       51.56093731819279,\n",
       "       75.64981671522744,\n",
       "       99.73869611226206,\n",
       "       123.82757550929671,\n",
       "       147.91645490633135,\n",
       "       172.005334303366,\n",
       "       196.09421370040064],\n",
       "      'y': [1.5221408211782721e-05,\n",
       "       0.00010654985748247904,\n",
       "       0.03960887169582442,\n",
       "       0.0016729711389132096,\n",
       "       7.610704105891357e-05,\n",
       "       2.4907758892008114e-05,\n",
       "       2.767528765778676e-06,\n",
       "       2.767528765778676e-06,\n",
       "       1.383764382889338e-06,\n",
       "       1.383764382889338e-06]}}}},\n",
       "  {'metric': 'DatasetDriftMetric',\n",
       "   'result': {'drift_share': 0.5,\n",
       "    'number_of_columns': 7,\n",
       "    'number_of_drifted_columns': 0,\n",
       "    'share_of_drifted_columns': 0.0,\n",
       "    'dataset_drift': False}},\n",
       "  {'metric': 'DatasetMissingValuesMetric',\n",
       "   'result': {'current': {'different_missing_values': {'': 0,\n",
       "      -inf: 0,\n",
       "      inf: 0,\n",
       "      None: 36257},\n",
       "     'number_of_different_missing_values': 1,\n",
       "     'different_missing_values_by_column': {'VendorID': {'': 0,\n",
       "       -inf: 0,\n",
       "       inf: 0,\n",
       "       None: 0},\n",
       "      'lpep_pickup_datetime': {'': 0, -inf: 0, inf: 0, None: 0},\n",
       "      'lpep_dropoff_datetime': {'': 0, -inf: 0, inf: 0, None: 0},\n",
       "      'store_and_fwd_flag': {'': 0, -inf: 0, inf: 0, None: 0},\n",
       "      'RatecodeID': {'': 0, -inf: 0, inf: 0, None: 0},\n",
       "      'PULocationID': {'': 0, -inf: 0, inf: 0, None: 0},\n",
       "      'DOLocationID': {'': 0, -inf: 0, inf: 0, None: 0},\n",
       "      'passenger_count': {'': 0, -inf: 0, inf: 0, None: 0},\n",
       "      'trip_distance': {'': 0, -inf: 0, inf: 0, None: 0},\n",
       "      'fare_amount': {'': 0, -inf: 0, inf: 0, None: 0},\n",
       "      'extra': {'': 0, -inf: 0, inf: 0, None: 0},\n",
       "      'mta_tax': {'': 0, -inf: 0, inf: 0, None: 0},\n",
       "      'tip_amount': {'': 0, -inf: 0, inf: 0, None: 0},\n",
       "      'tolls_amount': {'': 0, -inf: 0, inf: 0, None: 0},\n",
       "      'ehail_fee': {'': 0, -inf: 0, inf: 0, None: 36255},\n",
       "      'improvement_surcharge': {'': 0, -inf: 0, inf: 0, None: 0},\n",
       "      'total_amount': {'': 0, -inf: 0, inf: 0, None: 0},\n",
       "      'payment_type': {'': 0, -inf: 0, inf: 0, None: 0},\n",
       "      'trip_type': {'': 0, -inf: 0, inf: 0, None: 2},\n",
       "      'congestion_surcharge': {'': 0, -inf: 0, inf: 0, None: 0},\n",
       "      'duration_min': {'': 0, -inf: 0, inf: 0, None: 0},\n",
       "      'prediction': {'': 0, -inf: 0, inf: 0, None: 0}},\n",
       "     'number_of_different_missing_values_by_column': {'VendorID': 0,\n",
       "      'lpep_pickup_datetime': 0,\n",
       "      'lpep_dropoff_datetime': 0,\n",
       "      'store_and_fwd_flag': 0,\n",
       "      'RatecodeID': 0,\n",
       "      'PULocationID': 0,\n",
       "      'DOLocationID': 0,\n",
       "      'passenger_count': 0,\n",
       "      'trip_distance': 0,\n",
       "      'fare_amount': 0,\n",
       "      'extra': 0,\n",
       "      'mta_tax': 0,\n",
       "      'tip_amount': 0,\n",
       "      'tolls_amount': 0,\n",
       "      'ehail_fee': 1,\n",
       "      'improvement_surcharge': 0,\n",
       "      'total_amount': 0,\n",
       "      'payment_type': 0,\n",
       "      'trip_type': 1,\n",
       "      'congestion_surcharge': 0,\n",
       "      'duration_min': 0,\n",
       "      'prediction': 0},\n",
       "     'number_of_missing_values': 36257,\n",
       "     'share_of_missing_values': 0.0454570529456752,\n",
       "     'number_of_missing_values_by_column': {'VendorID': 0,\n",
       "      'lpep_pickup_datetime': 0,\n",
       "      'lpep_dropoff_datetime': 0,\n",
       "      'store_and_fwd_flag': 0,\n",
       "      'RatecodeID': 0,\n",
       "      'PULocationID': 0,\n",
       "      'DOLocationID': 0,\n",
       "      'passenger_count': 0,\n",
       "      'trip_distance': 0,\n",
       "      'fare_amount': 0,\n",
       "      'extra': 0,\n",
       "      'mta_tax': 0,\n",
       "      'tip_amount': 0,\n",
       "      'tolls_amount': 0,\n",
       "      'ehail_fee': 36255,\n",
       "      'improvement_surcharge': 0,\n",
       "      'total_amount': 0,\n",
       "      'payment_type': 0,\n",
       "      'trip_type': 2,\n",
       "      'congestion_surcharge': 0,\n",
       "      'duration_min': 0,\n",
       "      'prediction': 0},\n",
       "     'share_of_missing_values_by_column': {'VendorID': 0.0,\n",
       "      'lpep_pickup_datetime': 0.0,\n",
       "      'lpep_dropoff_datetime': 0.0,\n",
       "      'store_and_fwd_flag': 0.0,\n",
       "      'RatecodeID': 0.0,\n",
       "      'PULocationID': 0.0,\n",
       "      'DOLocationID': 0.0,\n",
       "      'passenger_count': 0.0,\n",
       "      'trip_distance': 0.0,\n",
       "      'fare_amount': 0.0,\n",
       "      'extra': 0.0,\n",
       "      'mta_tax': 0.0,\n",
       "      'tip_amount': 0.0,\n",
       "      'tolls_amount': 0.0,\n",
       "      'ehail_fee': 1.0,\n",
       "      'improvement_surcharge': 0.0,\n",
       "      'total_amount': 0.0,\n",
       "      'payment_type': 0.0,\n",
       "      'trip_type': 5.5164804854502824e-05,\n",
       "      'congestion_surcharge': 0.0,\n",
       "      'duration_min': 0.0,\n",
       "      'prediction': 0.0},\n",
       "     'number_of_rows': 36255,\n",
       "     'number_of_rows_with_missing_values': 36255,\n",
       "     'share_of_rows_with_missing_values': 1.0,\n",
       "     'number_of_columns': 22,\n",
       "     'columns_with_missing_values': ['ehail_fee', 'trip_type'],\n",
       "     'number_of_columns_with_missing_values': 2,\n",
       "     'share_of_columns_with_missing_values': 0.09090909090909091},\n",
       "    'reference': {'different_missing_values': {'': 0,\n",
       "      -inf: 0,\n",
       "      inf: 0,\n",
       "      None: 30000},\n",
       "     'number_of_different_missing_values': 1,\n",
       "     'different_missing_values_by_column': {'VendorID': {'': 0,\n",
       "       -inf: 0,\n",
       "       inf: 0,\n",
       "       None: 0},\n",
       "      'lpep_pickup_datetime': {'': 0, -inf: 0, inf: 0, None: 0},\n",
       "      'lpep_dropoff_datetime': {'': 0, -inf: 0, inf: 0, None: 0},\n",
       "      'store_and_fwd_flag': {'': 0, -inf: 0, inf: 0, None: 0},\n",
       "      'RatecodeID': {'': 0, -inf: 0, inf: 0, None: 0},\n",
       "      'PULocationID': {'': 0, -inf: 0, inf: 0, None: 0},\n",
       "      'DOLocationID': {'': 0, -inf: 0, inf: 0, None: 0},\n",
       "      'passenger_count': {'': 0, -inf: 0, inf: 0, None: 0},\n",
       "      'trip_distance': {'': 0, -inf: 0, inf: 0, None: 0},\n",
       "      'fare_amount': {'': 0, -inf: 0, inf: 0, None: 0},\n",
       "      'extra': {'': 0, -inf: 0, inf: 0, None: 0},\n",
       "      'mta_tax': {'': 0, -inf: 0, inf: 0, None: 0},\n",
       "      'tip_amount': {'': 0, -inf: 0, inf: 0, None: 0},\n",
       "      'tolls_amount': {'': 0, -inf: 0, inf: 0, None: 0},\n",
       "      'ehail_fee': {'': 0, -inf: 0, inf: 0, None: 30000},\n",
       "      'improvement_surcharge': {'': 0, -inf: 0, inf: 0, None: 0},\n",
       "      'total_amount': {'': 0, -inf: 0, inf: 0, None: 0},\n",
       "      'payment_type': {'': 0, -inf: 0, inf: 0, None: 0},\n",
       "      'trip_type': {'': 0, -inf: 0, inf: 0, None: 0},\n",
       "      'congestion_surcharge': {'': 0, -inf: 0, inf: 0, None: 0},\n",
       "      'duration_min': {'': 0, -inf: 0, inf: 0, None: 0},\n",
       "      'prediction': {'': 0, -inf: 0, inf: 0, None: 0}},\n",
       "     'number_of_different_missing_values_by_column': {'VendorID': 0,\n",
       "      'lpep_pickup_datetime': 0,\n",
       "      'lpep_dropoff_datetime': 0,\n",
       "      'store_and_fwd_flag': 0,\n",
       "      'RatecodeID': 0,\n",
       "      'PULocationID': 0,\n",
       "      'DOLocationID': 0,\n",
       "      'passenger_count': 0,\n",
       "      'trip_distance': 0,\n",
       "      'fare_amount': 0,\n",
       "      'extra': 0,\n",
       "      'mta_tax': 0,\n",
       "      'tip_amount': 0,\n",
       "      'tolls_amount': 0,\n",
       "      'ehail_fee': 1,\n",
       "      'improvement_surcharge': 0,\n",
       "      'total_amount': 0,\n",
       "      'payment_type': 0,\n",
       "      'trip_type': 0,\n",
       "      'congestion_surcharge': 0,\n",
       "      'duration_min': 0,\n",
       "      'prediction': 0},\n",
       "     'number_of_missing_values': 30000,\n",
       "     'share_of_missing_values': 0.045454545454545456,\n",
       "     'number_of_missing_values_by_column': {'VendorID': 0,\n",
       "      'lpep_pickup_datetime': 0,\n",
       "      'lpep_dropoff_datetime': 0,\n",
       "      'store_and_fwd_flag': 0,\n",
       "      'RatecodeID': 0,\n",
       "      'PULocationID': 0,\n",
       "      'DOLocationID': 0,\n",
       "      'passenger_count': 0,\n",
       "      'trip_distance': 0,\n",
       "      'fare_amount': 0,\n",
       "      'extra': 0,\n",
       "      'mta_tax': 0,\n",
       "      'tip_amount': 0,\n",
       "      'tolls_amount': 0,\n",
       "      'ehail_fee': 30000,\n",
       "      'improvement_surcharge': 0,\n",
       "      'total_amount': 0,\n",
       "      'payment_type': 0,\n",
       "      'trip_type': 0,\n",
       "      'congestion_surcharge': 0,\n",
       "      'duration_min': 0,\n",
       "      'prediction': 0},\n",
       "     'share_of_missing_values_by_column': {'VendorID': 0.0,\n",
       "      'lpep_pickup_datetime': 0.0,\n",
       "      'lpep_dropoff_datetime': 0.0,\n",
       "      'store_and_fwd_flag': 0.0,\n",
       "      'RatecodeID': 0.0,\n",
       "      'PULocationID': 0.0,\n",
       "      'DOLocationID': 0.0,\n",
       "      'passenger_count': 0.0,\n",
       "      'trip_distance': 0.0,\n",
       "      'fare_amount': 0.0,\n",
       "      'extra': 0.0,\n",
       "      'mta_tax': 0.0,\n",
       "      'tip_amount': 0.0,\n",
       "      'tolls_amount': 0.0,\n",
       "      'ehail_fee': 1.0,\n",
       "      'improvement_surcharge': 0.0,\n",
       "      'total_amount': 0.0,\n",
       "      'payment_type': 0.0,\n",
       "      'trip_type': 0.0,\n",
       "      'congestion_surcharge': 0.0,\n",
       "      'duration_min': 0.0,\n",
       "      'prediction': 0.0},\n",
       "     'number_of_rows': 30000,\n",
       "     'number_of_rows_with_missing_values': 30000,\n",
       "     'share_of_rows_with_missing_values': 1.0,\n",
       "     'number_of_columns': 22,\n",
       "     'columns_with_missing_values': ['ehail_fee'],\n",
       "     'number_of_columns_with_missing_values': 1,\n",
       "     'share_of_columns_with_missing_values': 0.045454545454545456}}},\n",
       "  {'metric': 'DatasetCorrelationsMetric',\n",
       "   'result': {'current': {'stats': {'pearson': {'target_prediction_correlation': None,\n",
       "       'abs_max_target_features_correlation': None,\n",
       "       'abs_max_prediction_features_correlation': 0.9756636164251348,\n",
       "       'abs_max_correlation': 0.9756636164251348,\n",
       "       'abs_max_features_correlation': 0.9597060809961442},\n",
       "      'spearman': {'target_prediction_correlation': None,\n",
       "       'abs_max_target_features_correlation': None,\n",
       "       'abs_max_prediction_features_correlation': 0.9839241460589535,\n",
       "       'abs_max_correlation': 0.9839241460589535,\n",
       "       'abs_max_features_correlation': 0.9450048959960071},\n",
       "      'kendall': {'target_prediction_correlation': None,\n",
       "       'abs_max_target_features_correlation': None,\n",
       "       'abs_max_prediction_features_correlation': 0.9100295692241993,\n",
       "       'abs_max_correlation': 0.9100295692241993,\n",
       "       'abs_max_features_correlation': 0.8127953863683591},\n",
       "      'cramer_v': {'target_prediction_correlation': None,\n",
       "       'abs_max_target_features_correlation': None,\n",
       "       'abs_max_prediction_features_correlation': None,\n",
       "       'abs_max_correlation': 0.26800942537946854,\n",
       "       'abs_max_features_correlation': 0.26800942537946854}}},\n",
       "    'reference': {'stats': {'pearson': {'target_prediction_correlation': None,\n",
       "       'abs_max_target_features_correlation': None,\n",
       "       'abs_max_prediction_features_correlation': 0.975880059364552,\n",
       "       'abs_max_correlation': 0.975880059364552,\n",
       "       'abs_max_features_correlation': 0.9619703395859379},\n",
       "      'spearman': {'target_prediction_correlation': None,\n",
       "       'abs_max_target_features_correlation': None,\n",
       "       'abs_max_prediction_features_correlation': 0.9834853203023335,\n",
       "       'abs_max_correlation': 0.9834853203023335,\n",
       "       'abs_max_features_correlation': 0.9447846055285958},\n",
       "      'kendall': {'target_prediction_correlation': None,\n",
       "       'abs_max_target_features_correlation': None,\n",
       "       'abs_max_prediction_features_correlation': 0.9090743735241696,\n",
       "       'abs_max_correlation': 0.9090743735241696,\n",
       "       'abs_max_features_correlation': 0.8119894064035053},\n",
       "      'cramer_v': {'target_prediction_correlation': None,\n",
       "       'abs_max_target_features_correlation': None,\n",
       "       'abs_max_prediction_features_correlation': None,\n",
       "       'abs_max_correlation': 0.276181373240605,\n",
       "       'abs_max_features_correlation': 0.276181373240605}}}}},\n",
       "  {'metric': 'ColumnQuantileMetric',\n",
       "   'result': {'column_name': 'fare_amount',\n",
       "    'column_type': 'num',\n",
       "    'quantile': 0.5,\n",
       "    'current': {'value': 12.8},\n",
       "    'reference': {'value': 12.8}}}]}"
      ]
     },
     "execution_count": 35,
     "metadata": {},
     "output_type": "execute_result"
    }
   ],
   "source": [
    "result"
   ]
  },
  {
   "cell_type": "code",
   "execution_count": 36,
   "id": "7fa07745",
   "metadata": {},
   "outputs": [
    {
     "data": {
      "text/plain": [
       "0.021912744737353405"
      ]
     },
     "execution_count": 36,
     "metadata": {},
     "output_type": "execute_result"
    }
   ],
   "source": [
    "#prediction drift\n",
    "result['metrics'][0]['result']['drift_score']"
   ]
  },
  {
   "cell_type": "code",
   "execution_count": 37,
   "id": "e1c8f836",
   "metadata": {},
   "outputs": [
    {
     "data": {
      "text/plain": [
       "0"
      ]
     },
     "execution_count": 37,
     "metadata": {},
     "output_type": "execute_result"
    }
   ],
   "source": [
    "#number of drifted columns\n",
    "result['metrics'][1]['result']['number_of_drifted_columns']"
   ]
  },
  {
   "cell_type": "code",
   "execution_count": 38,
   "id": "71c07269",
   "metadata": {},
   "outputs": [
    {
     "data": {
      "text/plain": [
       "0.0454570529456752"
      ]
     },
     "execution_count": 38,
     "metadata": {},
     "output_type": "execute_result"
    }
   ],
   "source": [
    "#share of missing values\n",
    "result['metrics'][2]['result']['current']['share_of_missing_values']"
   ]
  },
  {
   "cell_type": "code",
   "execution_count": 40,
   "id": "573533d5",
   "metadata": {},
   "outputs": [
    {
     "data": {
      "text/plain": [
       "12.8"
      ]
     },
     "execution_count": 40,
     "metadata": {},
     "output_type": "execute_result"
    }
   ],
   "source": [
    "# value of metric `quantile = 0.5` on `\"fare_amount\"` column \n",
    "result['metrics'][4]['result']['current']['value']"
   ]
  },
  {
   "cell_type": "code",
   "execution_count": null,
   "id": "28836828",
   "metadata": {},
   "outputs": [],
   "source": []
  }
 ],
 "metadata": {
  "kernelspec": {
   "display_name": "Python 3 (ipykernel)",
   "language": "python",
   "name": "python3"
  },
  "language_info": {
   "codemirror_mode": {
    "name": "ipython",
    "version": 3
   },
   "file_extension": ".py",
   "mimetype": "text/x-python",
   "name": "python",
   "nbconvert_exporter": "python",
   "pygments_lexer": "ipython3",
   "version": "3.10.11"
  }
 },
 "nbformat": 4,
 "nbformat_minor": 5
}
